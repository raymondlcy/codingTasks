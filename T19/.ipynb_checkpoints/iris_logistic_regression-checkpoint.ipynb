{
 "cells": [
  {
   "cell_type": "markdown",
   "metadata": {
    "id": "RcThZ5VUgaPo"
   },
   "source": [
    "## Practical Task 1 on T19\n",
    "Start from Logicial Regression on Iris with Setosa=0, All non-Setosa=1 "
   ]
  },
  {
   "cell_type": "code",
   "execution_count": 1,
   "metadata": {
    "colab": {
     "base_uri": "https://localhost:8080/",
     "height": 195
    },
    "id": "XWMypTRbgaPw",
    "outputId": "00f48efe-278a-45e5-9273-2b0381f5ce41"
   },
   "outputs": [],
   "source": [
    "# importing libraries\n",
    "import numpy as np\n",
    "import pandas as pd\n",
    "import matplotlib.pyplot as plt\n",
    "from sklearn.datasets import load_iris\n",
    "from sklearn.model_selection import train_test_split\n",
    "from sklearn.linear_model import LogisticRegression\n",
    "from sklearn import preprocessing\n",
    "\n",
    "# importing the dataset\n",
    "df_iris = pd.read_csv(\"iris.csv\")\n",
    "df_iris['Class']  = df_iris['Species']\n",
    "\n",
    "\n"
   ]
  },
  {
   "cell_type": "code",
   "execution_count": 2,
   "metadata": {},
   "outputs": [
    {
     "name": "stderr",
     "output_type": "stream",
     "text": [
      "C:\\Users\\User\\AppData\\Local\\Temp\\ipykernel_325104\\4189610892.py:3: FutureWarning: A value is trying to be set on a copy of a DataFrame or Series through chained assignment using an inplace method.\n",
      "The behavior will change in pandas 3.0. This inplace method will never work because the intermediate object on which we are setting values always behaves as a copy.\n",
      "\n",
      "For example, when doing 'df[col].method(value, inplace=True)', try using 'df.method({col: value}, inplace=True)' or df[col] = df[col].method(value) instead, to perform the operation inplace on the original object.\n",
      "\n",
      "\n",
      "  df_iris['Class'].replace('Iris-setosa','0',inplace=True)\n",
      "C:\\Users\\User\\AppData\\Local\\Temp\\ipykernel_325104\\4189610892.py:4: FutureWarning: A value is trying to be set on a copy of a DataFrame or Series through chained assignment using an inplace method.\n",
      "The behavior will change in pandas 3.0. This inplace method will never work because the intermediate object on which we are setting values always behaves as a copy.\n",
      "\n",
      "For example, when doing 'df[col].method(value, inplace=True)', try using 'df.method({col: value}, inplace=True)' or df[col] = df[col].method(value) instead, to perform the operation inplace on the original object.\n",
      "\n",
      "\n",
      "  df_iris['Class'].replace('Iris-versicolor','1',inplace=True)\n",
      "C:\\Users\\User\\AppData\\Local\\Temp\\ipykernel_325104\\4189610892.py:5: FutureWarning: A value is trying to be set on a copy of a DataFrame or Series through chained assignment using an inplace method.\n",
      "The behavior will change in pandas 3.0. This inplace method will never work because the intermediate object on which we are setting values always behaves as a copy.\n",
      "\n",
      "For example, when doing 'df[col].method(value, inplace=True)', try using 'df.method({col: value}, inplace=True)' or df[col] = df[col].method(value) instead, to perform the operation inplace on the original object.\n",
      "\n",
      "\n",
      "  df_iris['Class'].replace('Iris-virginica','1',inplace=True)\n"
     ]
    },
    {
     "data": {
      "text/html": [
       "<div>\n",
       "<style scoped>\n",
       "    .dataframe tbody tr th:only-of-type {\n",
       "        vertical-align: middle;\n",
       "    }\n",
       "\n",
       "    .dataframe tbody tr th {\n",
       "        vertical-align: top;\n",
       "    }\n",
       "\n",
       "    .dataframe thead th {\n",
       "        text-align: right;\n",
       "    }\n",
       "</style>\n",
       "<table border=\"1\" class=\"dataframe\">\n",
       "  <thead>\n",
       "    <tr style=\"text-align: right;\">\n",
       "      <th></th>\n",
       "      <th>SepalLengthCm</th>\n",
       "      <th>SepalWidthCm</th>\n",
       "      <th>PetalLengthCm</th>\n",
       "      <th>PetalWidthCm</th>\n",
       "    </tr>\n",
       "  </thead>\n",
       "  <tbody>\n",
       "    <tr>\n",
       "      <th>count</th>\n",
       "      <td>150.000000</td>\n",
       "      <td>150.000000</td>\n",
       "      <td>150.000000</td>\n",
       "      <td>150.000000</td>\n",
       "    </tr>\n",
       "    <tr>\n",
       "      <th>mean</th>\n",
       "      <td>5.843333</td>\n",
       "      <td>3.054000</td>\n",
       "      <td>3.758667</td>\n",
       "      <td>1.198667</td>\n",
       "    </tr>\n",
       "    <tr>\n",
       "      <th>std</th>\n",
       "      <td>0.828066</td>\n",
       "      <td>0.433594</td>\n",
       "      <td>1.764420</td>\n",
       "      <td>0.763161</td>\n",
       "    </tr>\n",
       "    <tr>\n",
       "      <th>min</th>\n",
       "      <td>4.300000</td>\n",
       "      <td>2.000000</td>\n",
       "      <td>1.000000</td>\n",
       "      <td>0.100000</td>\n",
       "    </tr>\n",
       "    <tr>\n",
       "      <th>25%</th>\n",
       "      <td>5.100000</td>\n",
       "      <td>2.800000</td>\n",
       "      <td>1.600000</td>\n",
       "      <td>0.300000</td>\n",
       "    </tr>\n",
       "    <tr>\n",
       "      <th>50%</th>\n",
       "      <td>5.800000</td>\n",
       "      <td>3.000000</td>\n",
       "      <td>4.350000</td>\n",
       "      <td>1.300000</td>\n",
       "    </tr>\n",
       "    <tr>\n",
       "      <th>75%</th>\n",
       "      <td>6.400000</td>\n",
       "      <td>3.300000</td>\n",
       "      <td>5.100000</td>\n",
       "      <td>1.800000</td>\n",
       "    </tr>\n",
       "    <tr>\n",
       "      <th>max</th>\n",
       "      <td>7.900000</td>\n",
       "      <td>4.400000</td>\n",
       "      <td>6.900000</td>\n",
       "      <td>2.500000</td>\n",
       "    </tr>\n",
       "  </tbody>\n",
       "</table>\n",
       "</div>"
      ],
      "text/plain": [
       "       SepalLengthCm  SepalWidthCm  PetalLengthCm  PetalWidthCm\n",
       "count     150.000000    150.000000     150.000000    150.000000\n",
       "mean        5.843333      3.054000       3.758667      1.198667\n",
       "std         0.828066      0.433594       1.764420      0.763161\n",
       "min         4.300000      2.000000       1.000000      0.100000\n",
       "25%         5.100000      2.800000       1.600000      0.300000\n",
       "50%         5.800000      3.000000       4.350000      1.300000\n",
       "75%         6.400000      3.300000       5.100000      1.800000\n",
       "max         7.900000      4.400000       6.900000      2.500000"
      ]
     },
     "execution_count": 2,
     "metadata": {},
     "output_type": "execute_result"
    }
   ],
   "source": [
    "# Data Cleaning \n",
    "# Converting Class Setosa into 0 , others into 1\n",
    "df_iris['Class'].replace('Iris-setosa','0',inplace=True)\n",
    "df_iris['Class'].replace('Iris-versicolor','1',inplace=True)\n",
    "df_iris['Class'].replace('Iris-virginica','1',inplace=True)\n",
    "\n",
    "df_iris = df_iris.drop('Id' , axis=1)\n",
    "df_iris = df_iris.drop('Species' , axis=1)\n",
    "#df_iris.head(25)\n",
    "df_iris.describe()\n"
   ]
  },
  {
   "cell_type": "code",
   "execution_count": 3,
   "metadata": {
    "id": "-yYXhO8LgaRV"
   },
   "outputs": [],
   "source": [
    "X = df_iris.iloc[:,[0,1,2,3]].values # Get xs as SpalLengthCm, SpalWidthCm, PetalLengthCm, PetalWidthCm from column 0 , 1, 2, 3\n",
    "y = df_iris.iloc[:,4].values # Get y as the 'Classes' in column 4\n",
    "\n",
    "X = X.reshape(-1, 4)\n",
    "\n",
    "X = preprocessing.scale(X) # scale the data so that it is easier to fit\n",
    "\n",
    "# Set the train and test ratio as 75% \": 25%\n",
    "X_train, X_test, y_train, y_test = train_test_split(X, \n",
    "                y, test_size=0.25, random_state=0, shuffle=True)\n",
    "\n"
   ]
  },
  {
   "cell_type": "code",
   "execution_count": 4,
   "metadata": {
    "id": "2vdkRridglTj"
   },
   "outputs": [],
   "source": [
    "# fit a model\n",
    "log_reg = LogisticRegression()\n",
    "log_reg.fit(X_train, y_train)\n",
    "\n",
    "# make predictions on test data\n",
    "y_pred = log_reg.predict(X_test).reshape(-1,1)\n",
    "\n",
    "#print(f'y_pred:{y_pred}')"
   ]
  },
  {
   "cell_type": "code",
   "execution_count": 5,
   "metadata": {
    "colab": {
     "base_uri": "https://localhost:8080/",
     "height": 34
    },
    "id": "mMl678ve1uSp",
    "outputId": "3158b09b-e898-4273-d21d-b3bbb7e1babf"
   },
   "outputs": [
    {
     "name": "stdout",
     "output_type": "stream",
     "text": [
      "Accuracy: 1.0\n"
     ]
    }
   ],
   "source": [
    "# use score method to get accuracy of model\n",
    "score = log_reg.score(X_test, y_test)\n",
    "\n",
    "print('Accuracy: {}'.format(score))\n"
   ]
  },
  {
   "cell_type": "code",
   "execution_count": 6,
   "metadata": {
    "colab": {
     "base_uri": "https://localhost:8080/",
     "height": 136
    },
    "id": "Ey1Ro-MYgaSq",
    "outputId": "ebb769ef-dd33-44ba-c85b-c5bd6436ce67"
   },
   "outputs": [
    {
     "data": {
      "text/plain": [
       "<sklearn.metrics._plot.confusion_matrix.ConfusionMatrixDisplay at 0x1f583dca7d0>"
      ]
     },
     "execution_count": 6,
     "metadata": {},
     "output_type": "execute_result"
    },
    {
     "data": {
      "image/png": "[encoded data removed]",
      "text/plain": [
       "<Figure size 640x480 with 2 Axes>"
      ]
     },
     "metadata": {},
     "output_type": "display_data"
    }
   ],
   "source": [
    "from sklearn.metrics import confusion_matrix , ConfusionMatrixDisplay\n",
    "\n",
    "classes = log_reg.classes_\n",
    "conf_mat = confusion_matrix(y_test, y_pred, labels=classes)\n",
    "disp = ConfusionMatrixDisplay(confusion_matrix=conf_mat,\n",
    "                              display_labels=classes)\n",
    "disp.plot()\n",
    "#cm_df = pd.DataFrame(conf_mat, columns='Class', index='Class')\n",
    "#cm_df"
   ]
  },
  {
   "cell_type": "markdown",
   "metadata": {
    "id": "gxii7pl224vE"
   },
   "source": [
    "# Accurarcy and Confusion Matrix\n",
    "The accuracy is 1.0, which indicate that the model is absolutely accurate.\n",
    "From the Confusion Matrix, the classification between '0' (Setosa) and '1' (Non-Setosa) is very clear. There is not much confusion in the cases.\n"
   ]
  },
  {
   "cell_type": "code",
   "execution_count": 7,
   "metadata": {
    "colab": {
     "base_uri": "https://localhost:8080/",
     "height": 50
    },
    "id": "tVUbnNAM8t6u",
    "outputId": "9a1b1031-22ea-4f79-8ab9-a9259ee847f8"
   },
   "outputs": [
    {
     "name": "stdout",
     "output_type": "stream",
     "text": [
      "F1 Score: 1.0\n",
      "f: [1. 1.]\n",
      "Hardest class: 0\n"
     ]
    }
   ],
   "source": [
    "from sklearn.metrics import f1_score, precision_score, recall_score\n",
    "\n",
    "# average f1 score\n",
    "av_f1 = f1_score(y_test, y_pred, average='micro')\n",
    "print('F1 Score:',av_f1)\n",
    "\n",
    "# f1 score per class\n",
    "f = f1_score(y_test, y_pred, average=None)\n",
    "print('f:',f)\n",
    "lowest_score = min(f)\n",
    "#print('Lowest score:', lowest_score)\n",
    "#print(list(f).index(lowest_score))\n",
    "hardest_class = log_reg.classes_[list(f).index(lowest_score)]\n",
    "print('Hardest class:', hardest_class)"
   ]
  },
  {
   "cell_type": "code",
   "execution_count": 8,
   "metadata": {
    "colab": {
     "base_uri": "https://localhost:8080/",
     "height": 50
    },
    "id": "7Xk0eOu525b4",
    "outputId": "9c4483fc-1740-4757-aafd-b17b4092df27"
   },
   "outputs": [
    {
     "name": "stdout",
     "output_type": "stream",
     "text": [
      "Precision: [1. 1.]\n",
      "Recall: [1. 1.]\n"
     ]
    }
   ],
   "source": [
    "# precision and recall for virginica  \n",
    "prec = precision_score(y_test,y_pred, average=None)\n",
    "rec = recall_score(y_test, y_pred, average=None)\n",
    "\n",
    "print('Precision:', prec)\n",
    "print('Recall:', rec)\n"
   ]
  },
  {
   "cell_type": "markdown",
   "metadata": {
    "id": "3NKQX3-h-BXz"
   },
   "source": [
    "# Conclusion for Setosa and Non-Setosa\n",
    "F1 Score is 1.0\n",
    "Precision Score of all samples are 1\n",
    "Recall Score of all samples are 1\n",
    "\n",
    "which reflect that the logictic regression of classification in Setosa and Non-setosa will be very accurate"
   ]
  },
  {
   "cell_type": "markdown",
   "metadata": {},
   "source": [
    "# Optional Task:　Logicial Regression on Iris with Setosa=0, versicolor=1, virginica=2"
   ]
  },
  {
   "cell_type": "code",
   "execution_count": 9,
   "metadata": {},
   "outputs": [
    {
     "name": "stderr",
     "output_type": "stream",
     "text": [
      "C:\\Users\\User\\AppData\\Local\\Temp\\ipykernel_325104\\1969974335.py:8: FutureWarning: A value is trying to be set on a copy of a DataFrame or Series through chained assignment using an inplace method.\n",
      "The behavior will change in pandas 3.0. This inplace method will never work because the intermediate object on which we are setting values always behaves as a copy.\n",
      "\n",
      "For example, when doing 'df[col].method(value, inplace=True)', try using 'df.method({col: value}, inplace=True)' or df[col] = df[col].method(value) instead, to perform the operation inplace on the original object.\n",
      "\n",
      "\n",
      "  df_optional['Class'].replace('Iris-setosa','0',inplace=True)\n",
      "C:\\Users\\User\\AppData\\Local\\Temp\\ipykernel_325104\\1969974335.py:9: FutureWarning: A value is trying to be set on a copy of a DataFrame or Series through chained assignment using an inplace method.\n",
      "The behavior will change in pandas 3.0. This inplace method will never work because the intermediate object on which we are setting values always behaves as a copy.\n",
      "\n",
      "For example, when doing 'df[col].method(value, inplace=True)', try using 'df.method({col: value}, inplace=True)' or df[col] = df[col].method(value) instead, to perform the operation inplace on the original object.\n",
      "\n",
      "\n",
      "  df_optional['Class'].replace('Iris-versicolor','1',inplace=True)\n",
      "C:\\Users\\User\\AppData\\Local\\Temp\\ipykernel_325104\\1969974335.py:10: FutureWarning: A value is trying to be set on a copy of a DataFrame or Series through chained assignment using an inplace method.\n",
      "The behavior will change in pandas 3.0. This inplace method will never work because the intermediate object on which we are setting values always behaves as a copy.\n",
      "\n",
      "For example, when doing 'df[col].method(value, inplace=True)', try using 'df.method({col: value}, inplace=True)' or df[col] = df[col].method(value) instead, to perform the operation inplace on the original object.\n",
      "\n",
      "\n",
      "  df_optional['Class'].replace('Iris-virginica','2',inplace=True)\n"
     ]
    },
    {
     "data": {
      "text/html": [
       "<div>\n",
       "<style scoped>\n",
       "    .dataframe tbody tr th:only-of-type {\n",
       "        vertical-align: middle;\n",
       "    }\n",
       "\n",
       "    .dataframe tbody tr th {\n",
       "        vertical-align: top;\n",
       "    }\n",
       "\n",
       "    .dataframe thead th {\n",
       "        text-align: right;\n",
       "    }\n",
       "</style>\n",
       "<table border=\"1\" class=\"dataframe\">\n",
       "  <thead>\n",
       "    <tr style=\"text-align: right;\">\n",
       "      <th></th>\n",
       "      <th>SepalLengthCm</th>\n",
       "      <th>SepalWidthCm</th>\n",
       "      <th>PetalLengthCm</th>\n",
       "      <th>PetalWidthCm</th>\n",
       "      <th>Class</th>\n",
       "    </tr>\n",
       "  </thead>\n",
       "  <tbody>\n",
       "    <tr>\n",
       "      <th>0</th>\n",
       "      <td>5.1</td>\n",
       "      <td>3.5</td>\n",
       "      <td>1.4</td>\n",
       "      <td>0.2</td>\n",
       "      <td>0</td>\n",
       "    </tr>\n",
       "    <tr>\n",
       "      <th>1</th>\n",
       "      <td>4.9</td>\n",
       "      <td>3.0</td>\n",
       "      <td>1.4</td>\n",
       "      <td>0.2</td>\n",
       "      <td>0</td>\n",
       "    </tr>\n",
       "    <tr>\n",
       "      <th>2</th>\n",
       "      <td>4.7</td>\n",
       "      <td>3.2</td>\n",
       "      <td>1.3</td>\n",
       "      <td>0.2</td>\n",
       "      <td>0</td>\n",
       "    </tr>\n",
       "    <tr>\n",
       "      <th>3</th>\n",
       "      <td>4.6</td>\n",
       "      <td>3.1</td>\n",
       "      <td>1.5</td>\n",
       "      <td>0.2</td>\n",
       "      <td>0</td>\n",
       "    </tr>\n",
       "    <tr>\n",
       "      <th>4</th>\n",
       "      <td>5.0</td>\n",
       "      <td>3.6</td>\n",
       "      <td>1.4</td>\n",
       "      <td>0.2</td>\n",
       "      <td>0</td>\n",
       "    </tr>\n",
       "    <tr>\n",
       "      <th>...</th>\n",
       "      <td>...</td>\n",
       "      <td>...</td>\n",
       "      <td>...</td>\n",
       "      <td>...</td>\n",
       "      <td>...</td>\n",
       "    </tr>\n",
       "    <tr>\n",
       "      <th>145</th>\n",
       "      <td>6.7</td>\n",
       "      <td>3.0</td>\n",
       "      <td>5.2</td>\n",
       "      <td>2.3</td>\n",
       "      <td>2</td>\n",
       "    </tr>\n",
       "    <tr>\n",
       "      <th>146</th>\n",
       "      <td>6.3</td>\n",
       "      <td>2.5</td>\n",
       "      <td>5.0</td>\n",
       "      <td>1.9</td>\n",
       "      <td>2</td>\n",
       "    </tr>\n",
       "    <tr>\n",
       "      <th>147</th>\n",
       "      <td>6.5</td>\n",
       "      <td>3.0</td>\n",
       "      <td>5.2</td>\n",
       "      <td>2.0</td>\n",
       "      <td>2</td>\n",
       "    </tr>\n",
       "    <tr>\n",
       "      <th>148</th>\n",
       "      <td>6.2</td>\n",
       "      <td>3.4</td>\n",
       "      <td>5.4</td>\n",
       "      <td>2.3</td>\n",
       "      <td>2</td>\n",
       "    </tr>\n",
       "    <tr>\n",
       "      <th>149</th>\n",
       "      <td>5.9</td>\n",
       "      <td>3.0</td>\n",
       "      <td>5.1</td>\n",
       "      <td>1.8</td>\n",
       "      <td>2</td>\n",
       "    </tr>\n",
       "  </tbody>\n",
       "</table>\n",
       "<p>150 rows × 5 columns</p>\n",
       "</div>"
      ],
      "text/plain": [
       "     SepalLengthCm  SepalWidthCm  PetalLengthCm  PetalWidthCm Class\n",
       "0              5.1           3.5            1.4           0.2     0\n",
       "1              4.9           3.0            1.4           0.2     0\n",
       "2              4.7           3.2            1.3           0.2     0\n",
       "3              4.6           3.1            1.5           0.2     0\n",
       "4              5.0           3.6            1.4           0.2     0\n",
       "..             ...           ...            ...           ...   ...\n",
       "145            6.7           3.0            5.2           2.3     2\n",
       "146            6.3           2.5            5.0           1.9     2\n",
       "147            6.5           3.0            5.2           2.0     2\n",
       "148            6.2           3.4            5.4           2.3     2\n",
       "149            5.9           3.0            5.1           1.8     2\n",
       "\n",
       "[150 rows x 5 columns]"
      ]
     },
     "execution_count": 9,
     "metadata": {},
     "output_type": "execute_result"
    }
   ],
   "source": [
    "# Import anothe dataframe from CSV\n",
    "df_optional = pd.read_csv(\"iris.csv\")\n",
    "df_optional['Class']  = df_optional['Species']\n",
    "\n",
    "\n",
    "# Data Cleaning \n",
    "# Converting Class Setosa into 0 , versicolor into 1, virginica into 2\n",
    "df_optional['Class'].replace('Iris-setosa','0',inplace=True)\n",
    "df_optional['Class'].replace('Iris-versicolor','1',inplace=True)\n",
    "df_optional['Class'].replace('Iris-virginica','2',inplace=True)\n",
    "\n",
    "df_optional = df_optional.drop('Id' , axis=1)\n",
    "df_optional = df_optional.drop('Species' , axis=1)\n",
    "df_optional.head(245)\n",
    "#df_optional.describe()\n"
   ]
  },
  {
   "cell_type": "code",
   "execution_count": 10,
   "metadata": {},
   "outputs": [],
   "source": [
    "X = df_optional.iloc[:,[0,1,2,3]].values # Get xs as SpalLengthCm, SpalWidthCm, PetalLengthCm, PetalWidthCm from column 0 , 1, 2, 3\n",
    "y = df_optional.iloc[:,4].values # Get y as the 'Classes' in column 4\n",
    "\n",
    "X = X.reshape(-1, 4)\n",
    "\n",
    "X = preprocessing.scale(X) # scale the data so that it is easier to fit\n",
    "\n",
    "# Set the train and test ratio as 75% : 25%\n",
    "X_train, X_test, y_train, y_test = train_test_split(X, \n",
    "                y, test_size=0.25, random_state=0, shuffle=True)\n"
   ]
  },
  {
   "cell_type": "code",
   "execution_count": 11,
   "metadata": {},
   "outputs": [],
   "source": [
    "# fit a model\n",
    "log_reg = LogisticRegression()\n",
    "log_reg.fit(X_train, y_train)\n",
    "\n",
    "# make predictions on test data\n",
    "y_pred = log_reg.predict(X_test).reshape(-1,1)\n"
   ]
  },
  {
   "cell_type": "code",
   "execution_count": 12,
   "metadata": {},
   "outputs": [
    {
     "name": "stdout",
     "output_type": "stream",
     "text": [
      "Accuracy: 0.9736842105263158\n"
     ]
    }
   ],
   "source": [
    "# use score method to get accuracy of model\n",
    "score = log_reg.score(X_test, y_test)\n",
    "\n",
    "print('Accuracy: {}'.format(score))\n"
   ]
  },
  {
   "cell_type": "markdown",
   "metadata": {},
   "source": [
    "# Observation: compare with setosa and non-setosa, the accuracy is slightly lower"
   ]
  },
  {
   "cell_type": "code",
   "execution_count": 13,
   "metadata": {},
   "outputs": [
    {
     "data": {
      "text/plain": [
       "<sklearn.metrics._plot.confusion_matrix.ConfusionMatrixDisplay at 0x1f58401fe80>"
      ]
     },
     "execution_count": 13,
     "metadata": {},
     "output_type": "execute_result"
    },
    {
     "data": {
      "image/png": "[encoded data removed]",
      "text/plain": [
       "<Figure size 640x480 with 2 Axes>"
      ]
     },
     "metadata": {},
     "output_type": "display_data"
    }
   ],
   "source": [
    "from sklearn.metrics import confusion_matrix , ConfusionMatrixDisplay\n",
    "\n",
    "classes = log_reg.classes_\n",
    "conf_mat = confusion_matrix(y_test, y_pred, labels=classes)\n",
    "disp = ConfusionMatrixDisplay(confusion_matrix=conf_mat,\n",
    "                              display_labels=classes)\n",
    "disp.plot()\n",
    "#cm_df = pd.DataFrame(conf_mat, columns='Class', index='Class')\n",
    "#cm_df"
   ]
  },
  {
   "cell_type": "markdown",
   "metadata": {},
   "source": [
    "# Observation: from the confusion matrix one '1' true value are predicted to '2'"
   ]
  },
  {
   "cell_type": "code",
   "execution_count": 14,
   "metadata": {},
   "outputs": [
    {
     "name": "stdout",
     "output_type": "stream",
     "text": [
      "F1 Score: 0.9736842105263158\n",
      "f: [1.         0.96774194 0.94736842]\n",
      "Hardest class: 2\n"
     ]
    }
   ],
   "source": [
    "from sklearn.metrics import f1_score, precision_score, recall_score\n",
    "\n",
    "# average f1 score\n",
    "av_f1 = f1_score(y_test, y_pred, average='micro')\n",
    "print('F1 Score:',av_f1)\n",
    "\n",
    "# f1 score per class\n",
    "f = f1_score(y_test, y_pred, average=None)\n",
    "print('f:',f)\n",
    "lowest_score = min(f)\n",
    "#print('Lowest score:', lowest_score)\n",
    "#print(list(f).index(lowest_score))\n",
    "hardest_class = log_reg.classes_[list(f).index(lowest_score)]\n",
    "print('Hardest class:', hardest_class)"
   ]
  },
  {
   "cell_type": "code",
   "execution_count": 15,
   "metadata": {},
   "outputs": [
    {
     "name": "stdout",
     "output_type": "stream",
     "text": [
      "Precision: [1.  1.  0.9]\n",
      "Recall: [1.     0.9375 1.    ]\n"
     ]
    }
   ],
   "source": [
    "# precision and recall for virginica  \n",
    "prec = precision_score(y_test,y_pred, average=None)\n",
    "rec = recall_score(y_test, y_pred, average=None)\n",
    "\n",
    "print('Precision:', prec)\n",
    "print('Recall:', rec)\n"
   ]
  },
  {
   "cell_type": "markdown",
   "metadata": {},
   "source": [
    "# Conclusion\n",
    "The precision of '2' (virginica) is the hardest class which has some overlapping with '1' (versicolor), so it also has the lowest Precision\n",
    "By seperating the class into three type, the accuracy is slightly lower to 0.97\n",
    "And F1 Score also near 0.97.\n",
    "\n",
    "Which the logistic regession in this case is still very accurate."
   ]
  }
 ],
 "metadata": {
  "colab": {
   "provenance": []
  },
  "kernelspec": {
   "display_name": "Python 3 (ipykernel)",
   "language": "python",
   "name": "python3"
  },
  "language_info": {
   "codemirror_mode": {
    "name": "ipython",
    "version": 3
   },
   "file_extension": ".py",
   "mimetype": "text/x-python",
   "name": "python",
   "nbconvert_exporter": "python",
   "pygments_lexer": "ipython3",
   "version": "3.10.6"
  }
 },
 "nbformat": 4,
 "nbformat_minor": 4
}
