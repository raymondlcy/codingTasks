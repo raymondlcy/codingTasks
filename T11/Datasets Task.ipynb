{
 "cells": [
  {
   "cell_type": "markdown",
   "metadata": {
    "id": "_yS6VSYNQlRV"
   },
   "source": [
    "# Datasets Task"
   ]
  },
  {
   "cell_type": "markdown",
   "metadata": {
    "id": "xxJgNn26RYXy"
   },
   "source": [
    "In this compulsory task you will use pandas to select data from a dataset and explain the data retrieved for a given line of code."
   ]
  },
  {
   "cell_type": "code",
   "execution_count": null,
   "metadata": {
    "id": "tJYiNSV2MeX3",
    "scrolled": true
   },
   "outputs": [],
   "source": [
    "import pandas as pd"
   ]
  },
  {
   "cell_type": "code",
   "execution_count": null,
   "metadata": {
    "id": "JMyj6fTSMiNr"
   },
   "outputs": [],
   "source": [
    "df = pd.read_csv('balance.txt',sep=' ')"
   ]
  },
  {
   "cell_type": "markdown",
   "metadata": {
    "id": "a7Kn2dBSMojX"
   },
   "source": [
    "You will use the same `balance.txt` dataset used in the example Jupyter notebook. Remember to ensure it is in the same folder as this notebook."
   ]
  },
  {
   "cell_type": "markdown",
   "metadata": {
    "id": "BKTMPK2USayL"
   },
   "source": [
    "1. Write the code that performs the action described in the following statements."
   ]
  },
  {
   "cell_type": "code",
   "execution_count": null,
   "metadata": {
    "id": "j_ic1wpxMCmu"
   },
   "outputs": [],
   "source": [
    "# Select the 'Limit' and 'Rating' columns of the first five observations\n",
    "\n",
    "# Assign a subset with only Limit and Rating Columns\n",
    "limit_and_rating_df = df[['Limit','Rating']]\n",
    "limit_and_rating_df.iloc[:,:]    #Show all columns and rows"
   ]
  },
  {
   "cell_type": "code",
   "execution_count": null,
   "metadata": {
    "id": "H8JeFeHRMWfL"
   },
   "outputs": [],
   "source": [
    "# Select the first five observations with 4 cards\n",
    "first_5_with_4cards_df = df[df['Cards']==4]     # Select only Card = 4 rows\n",
    "first_5_with_4cards_df.iloc[:5,:]               # Show first five records"
   ]
  },
  {
   "cell_type": "code",
   "execution_count": null,
   "metadata": {
    "id": "CH3AvNv6MY8d"
   },
   "outputs": [],
   "source": [
    "# Sort the observations by 'Education'. Show users with a high education value first.\n",
    "df.sort_values(by='Income',ascending=False).head()\n",
    "order_by_df = df.sort_values(by='Education', ascending=False)\n",
    "order_by_df.iloc[:,:]\n"
   ]
  },
  {
   "cell_type": "markdown",
   "metadata": {
    "id": "7D6UiDd8M3VA"
   },
   "source": [
    "2. Write a short explanation in the form of a comment for the following lines of code. For example:  \n",
    "```\n",
    "# Selects the first 5 rows, and all of the columns for those rows.\n",
    "df.iloc[:5,:]\n",
    "```"
   ]
  },
  {
   "cell_type": "code",
   "execution_count": null,
   "metadata": {
    "id": "2ER3T_1HM27b"
   },
   "outputs": [],
   "source": [
    "# Selects all rows,  and all of the columns for those rows\n",
    "df.iloc[:,:]"
   ]
  },
  {
   "cell_type": "code",
   "execution_count": null,
   "metadata": {
    "id": "-CaKYE9YM_1-"
   },
   "outputs": [],
   "source": [
    "# Selects the rows from the sixth position to the end,  and the columns from sixth to the end for those rows.\n",
    "df.iloc[5:,5:]"
   ]
  },
  {
   "cell_type": "code",
   "execution_count": null,
   "metadata": {
    "id": "jYTu3SJINTFP"
   },
   "outputs": [],
   "source": [
    "# Selects all rows,  and only the first of the columns for those rows\n",
    "df.iloc[:,0]"
   ]
  },
  {
   "cell_type": "code",
   "execution_count": null,
   "metadata": {
    "id": "YRVRGDCvNq6k"
   },
   "outputs": [],
   "source": [
    "# Selects only the tenth rows, and all of the columns for this row\n",
    "df.iloc[9,:]"
   ]
  },
  {
   "cell_type": "code",
   "execution_count": null,
   "metadata": {},
   "outputs": [],
   "source": []
  },
  {
   "cell_type": "code",
   "execution_count": null,
   "metadata": {},
   "outputs": [],
   "source": []
  },
  {
   "cell_type": "code",
   "execution_count": null,
   "metadata": {},
   "outputs": [],
   "source": []
  },
  {
   "cell_type": "code",
   "execution_count": null,
   "metadata": {},
   "outputs": [],
   "source": []
  },
  {
   "cell_type": "code",
   "execution_count": null,
   "metadata": {},
   "outputs": [],
   "source": []
  },
  {
   "cell_type": "code",
   "execution_count": null,
   "metadata": {},
   "outputs": [],
   "source": []
  },
  {
   "cell_type": "code",
   "execution_count": null,
   "metadata": {},
   "outputs": [],
   "source": []
  },
  {
   "cell_type": "code",
   "execution_count": null,
   "metadata": {},
   "outputs": [],
   "source": []
  },
  {
   "cell_type": "code",
   "execution_count": null,
   "metadata": {},
   "outputs": [],
   "source": []
  },
  {
   "cell_type": "code",
   "execution_count": null,
   "metadata": {},
   "outputs": [],
   "source": []
  }
 ],
 "metadata": {
  "colab": {
   "provenance": []
  },
  "kernelspec": {
   "display_name": "Python 3 (ipykernel)",
   "language": "python",
   "name": "python3"
  },
  "language_info": {
   "codemirror_mode": {
    "name": "ipython",
    "version": 3
   },
   "file_extension": ".py",
   "mimetype": "text/x-python",
   "name": "python",
   "nbconvert_exporter": "python",
   "pygments_lexer": "ipython3",
   "version": "3.12.2"
  }
 },
 "nbformat": 4,
 "nbformat_minor": 4
}
