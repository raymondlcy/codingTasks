{
 "cells": [
  {
   "cell_type": "markdown",
   "metadata": {
    "id": "zgKR4UW0PlzA"
   },
   "source": [
    "## Manipulating data with pandas"
   ]
  },
  {
   "cell_type": "code",
   "execution_count": 2,
   "metadata": {
    "id": "aRdjbefrK9LH"
   },
   "outputs": [],
   "source": [
    "# Import libraries\n",
    "import pandas as pd\n",
    "import seaborn as sns"
   ]
  },
  {
   "cell_type": "markdown",
   "metadata": {
    "id": "ywLzxuvzPlzD"
   },
   "source": [
    "## Iris dataset examples"
   ]
  },
  {
   "cell_type": "code",
   "execution_count": 3,
   "metadata": {
    "id": "Tf700AqgPlzD",
    "outputId": "76f80899-ea8d-415f-b484-17230d75873b"
   },
   "outputs": [
    {
     "name": "stdout",
     "output_type": "stream",
     "text": [
      "Index(['sepal_length', 'sepal_width', 'petal_length', 'petal_width',\n",
      "       'species'],\n",
      "      dtype='object')\n"
     ]
    }
   ],
   "source": [
    "# Load data from seaborn package\n",
    "iris_df = sns.load_dataset('iris')\n",
    "# Print all columns\n",
    "print(iris_df.columns)"
   ]
  },
  {
   "cell_type": "markdown",
   "metadata": {
    "id": "ebaas5zhPlzD"
   },
   "source": [
    "### Selecting columns in pandas"
   ]
  },
  {
   "cell_type": "code",
   "execution_count": 4,
   "metadata": {
    "id": "JQ1p87QTPlzD",
    "outputId": "838c8cfe-ea85-4d8b-e576-287aceb3b310"
   },
   "outputs": [
    {
     "data": {
      "text/plain": [
       "8         setosa\n",
       "58    versicolor\n",
       "93    versicolor\n",
       "70    versicolor\n",
       "78    versicolor\n",
       "Name: species, dtype: object"
      ]
     },
     "execution_count": 4,
     "metadata": {},
     "output_type": "execute_result"
    }
   ],
   "source": [
    "# Select only the species column\n",
    "just_the_species = iris_df['species']\n",
    "just_the_species.sample(5)"
   ]
  },
  {
   "cell_type": "code",
   "execution_count": 5,
   "metadata": {
    "id": "DtToEaskPlzE",
    "outputId": "98601a7a-a0c2-4fb0-9019-cf6037a6d24f"
   },
   "outputs": [
    {
     "data": {
      "text/html": [
       "<div>\n",
       "<style scoped>\n",
       "    .dataframe tbody tr th:only-of-type {\n",
       "        vertical-align: middle;\n",
       "    }\n",
       "\n",
       "    .dataframe tbody tr th {\n",
       "        vertical-align: top;\n",
       "    }\n",
       "\n",
       "    .dataframe thead th {\n",
       "        text-align: right;\n",
       "    }\n",
       "</style>\n",
       "<table border=\"1\" class=\"dataframe\">\n",
       "  <thead>\n",
       "    <tr style=\"text-align: right;\">\n",
       "      <th></th>\n",
       "      <th>sepal_length</th>\n",
       "      <th>sepal_width</th>\n",
       "      <th>petal_length</th>\n",
       "      <th>petal_width</th>\n",
       "    </tr>\n",
       "  </thead>\n",
       "  <tbody>\n",
       "    <tr>\n",
       "      <th>24</th>\n",
       "      <td>4.8</td>\n",
       "      <td>3.4</td>\n",
       "      <td>1.9</td>\n",
       "      <td>0.2</td>\n",
       "    </tr>\n",
       "    <tr>\n",
       "      <th>45</th>\n",
       "      <td>4.8</td>\n",
       "      <td>3.0</td>\n",
       "      <td>1.4</td>\n",
       "      <td>0.3</td>\n",
       "    </tr>\n",
       "    <tr>\n",
       "      <th>70</th>\n",
       "      <td>5.9</td>\n",
       "      <td>3.2</td>\n",
       "      <td>4.8</td>\n",
       "      <td>1.8</td>\n",
       "    </tr>\n",
       "    <tr>\n",
       "      <th>123</th>\n",
       "      <td>6.3</td>\n",
       "      <td>2.7</td>\n",
       "      <td>4.9</td>\n",
       "      <td>1.8</td>\n",
       "    </tr>\n",
       "    <tr>\n",
       "      <th>118</th>\n",
       "      <td>7.7</td>\n",
       "      <td>2.6</td>\n",
       "      <td>6.9</td>\n",
       "      <td>2.3</td>\n",
       "    </tr>\n",
       "  </tbody>\n",
       "</table>\n",
       "</div>"
      ],
      "text/plain": [
       "     sepal_length  sepal_width  petal_length  petal_width\n",
       "24            4.8          3.4           1.9          0.2\n",
       "45            4.8          3.0           1.4          0.3\n",
       "70            5.9          3.2           4.8          1.8\n",
       "123           6.3          2.7           4.9          1.8\n",
       "118           7.7          2.6           6.9          2.3"
      ]
     },
     "execution_count": 5,
     "metadata": {},
     "output_type": "execute_result"
    }
   ],
   "source": [
    "# Select columns with sepal and petal information\n",
    "sepal_and_petal_info = iris_df[['sepal_length', 'sepal_width', 'petal_length', 'petal_width']]\n",
    "sepal_and_petal_info.sample(5)"
   ]
  },
  {
   "cell_type": "code",
   "execution_count": 6,
   "metadata": {
    "id": "4yo4ESCzPlzE",
    "outputId": "cd98a565-76ca-4fa8-80be-4743fcb636b0"
   },
   "outputs": [
    {
     "data": {
      "text/html": [
       "<div>\n",
       "<style scoped>\n",
       "    .dataframe tbody tr th:only-of-type {\n",
       "        vertical-align: middle;\n",
       "    }\n",
       "\n",
       "    .dataframe tbody tr th {\n",
       "        vertical-align: top;\n",
       "    }\n",
       "\n",
       "    .dataframe thead th {\n",
       "        text-align: right;\n",
       "    }\n",
       "</style>\n",
       "<table border=\"1\" class=\"dataframe\">\n",
       "  <thead>\n",
       "    <tr style=\"text-align: right;\">\n",
       "      <th></th>\n",
       "      <th>sepal_length</th>\n",
       "      <th>sepal_width</th>\n",
       "      <th>petal_length</th>\n",
       "      <th>petal_width</th>\n",
       "      <th>species</th>\n",
       "    </tr>\n",
       "  </thead>\n",
       "  <tbody>\n",
       "    <tr>\n",
       "      <th>42</th>\n",
       "      <td>4.4</td>\n",
       "      <td>3.2</td>\n",
       "      <td>1.3</td>\n",
       "      <td>0.2</td>\n",
       "      <td>setosa</td>\n",
       "    </tr>\n",
       "    <tr>\n",
       "      <th>38</th>\n",
       "      <td>4.4</td>\n",
       "      <td>3.0</td>\n",
       "      <td>1.3</td>\n",
       "      <td>0.2</td>\n",
       "      <td>setosa</td>\n",
       "    </tr>\n",
       "    <tr>\n",
       "      <th>22</th>\n",
       "      <td>4.6</td>\n",
       "      <td>3.6</td>\n",
       "      <td>1.0</td>\n",
       "      <td>0.2</td>\n",
       "      <td>setosa</td>\n",
       "    </tr>\n",
       "    <tr>\n",
       "      <th>29</th>\n",
       "      <td>4.7</td>\n",
       "      <td>3.2</td>\n",
       "      <td>1.6</td>\n",
       "      <td>0.2</td>\n",
       "      <td>setosa</td>\n",
       "    </tr>\n",
       "    <tr>\n",
       "      <th>8</th>\n",
       "      <td>4.4</td>\n",
       "      <td>2.9</td>\n",
       "      <td>1.4</td>\n",
       "      <td>0.2</td>\n",
       "      <td>setosa</td>\n",
       "    </tr>\n",
       "  </tbody>\n",
       "</table>\n",
       "</div>"
      ],
      "text/plain": [
       "    sepal_length  sepal_width  petal_length  petal_width species\n",
       "42           4.4          3.2           1.3          0.2  setosa\n",
       "38           4.4          3.0           1.3          0.2  setosa\n",
       "22           4.6          3.6           1.0          0.2  setosa\n",
       "29           4.7          3.2           1.6          0.2  setosa\n",
       "8            4.4          2.9           1.4          0.2  setosa"
      ]
     },
     "execution_count": 6,
     "metadata": {},
     "output_type": "execute_result"
    }
   ],
   "source": [
    "# Filter for specific values in a column\n",
    "small_sepal_length = iris_df[iris_df['sepal_length'] < 4.8]\n",
    "small_sepal_length.sample(5)"
   ]
  },
  {
   "cell_type": "markdown",
   "metadata": {
    "id": "-uk0NFfrPlzE"
   },
   "source": [
    "## Insurance dataset examples"
   ]
  },
  {
   "cell_type": "markdown",
   "metadata": {
    "id": "0C3ySq_bPlzF"
   },
   "source": [
    "Below we import data from a csv file called 'insurance.csv'. The text file is found in the task folder. Make sure it is in the same directory that the notebook is saved in."
   ]
  },
  {
   "cell_type": "code",
   "execution_count": 7,
   "metadata": {
    "id": "JPgsaAb1PlzF",
    "outputId": "91764807-a9af-491b-b117-5879ae5bc677"
   },
   "outputs": [
    {
     "data": {
      "text/plain": [
       "Index(['age', 'sex', 'bmi', 'children', 'smoker', 'region', 'charges'], dtype='object')"
      ]
     },
     "execution_count": 7,
     "metadata": {},
     "output_type": "execute_result"
    }
   ],
   "source": [
    "# Load data\n",
    "insurance_df = pd.read_csv(\"insurance.csv\")\n",
    "insurance_df.columns"
   ]
  },
  {
   "cell_type": "markdown",
   "metadata": {
    "id": "IS0Vg59ZPlzF"
   },
   "source": [
    "### Grouping in pandas"
   ]
  },
  {
   "cell_type": "code",
   "execution_count": 8,
   "metadata": {
    "id": "c9N-lbaJPlzF",
    "outputId": "433231fc-b741-4d09-8eeb-a5170ef80000"
   },
   "outputs": [
    {
     "name": "stdout",
     "output_type": "stream",
     "text": [
      "10839.408303333334\n"
     ]
    }
   ],
   "source": [
    "# Get people in the 30-35 age group\n",
    "between_30_and_35 = insurance_df[(insurance_df['age'] > 30) & (insurance_df['age'] < 35 )]\n",
    "\n",
    "# Print mean charges for all people in 30-35 age group\n",
    "print(between_30_and_35['charges'].mean())"
   ]
  },
  {
   "cell_type": "code",
   "execution_count": 9,
   "metadata": {
    "id": "DjtBAu_MPlzF",
    "outputId": "ea1c34c4-0eae-492a-af7c-9ad2ac3603b3"
   },
   "outputs": [
    {
     "name": "stdout",
     "output_type": "stream",
     "text": [
      "10839.408303333334\n"
     ]
    }
   ],
   "source": [
    "# Use the query method to get people in the 30-35 age group\n",
    "between_30_and_35 = insurance_df.query(\"age > 30 and age < 35\")\n",
    "\n",
    "# Print mean charges for all people in the 30-35 age group\n",
    "print(between_30_and_35['charges'].mean())"
   ]
  },
  {
   "cell_type": "code",
   "execution_count": 9,
   "metadata": {
    "id": "-EuE_05dPlzF",
    "outputId": "8d5f2484-5bf9-42d2-90ff-632163534d58"
   },
   "outputs": [
    {
     "name": "stdout",
     "output_type": "stream",
     "text": [
      "age\n",
      "18     7086.217556\n",
      "19     9747.909335\n",
      "20    10159.697736\n",
      "21     4730.464330\n",
      "22    10012.932802\n",
      "23    12419.820040\n",
      "24    10648.015962\n",
      "25     9838.365311\n",
      "26     6133.825309\n",
      "27    12184.701721\n",
      "28     9069.187564\n",
      "29    10430.158727\n",
      "30    12719.110358\n",
      "31    10196.980573\n",
      "32     9220.300291\n",
      "33    12351.532987\n",
      "34    11613.528121\n",
      "35    11307.182031\n",
      "36    12204.476138\n",
      "37    18019.911877\n",
      "38     8102.733674\n",
      "39    11778.242945\n",
      "40    11772.251310\n",
      "41     9653.745650\n",
      "42    13061.038669\n",
      "43    19267.278653\n",
      "44    15859.396587\n",
      "45    14830.199856\n",
      "46    14342.590639\n",
      "47    17653.999593\n",
      "48    14632.500445\n",
      "49    12696.006264\n",
      "50    15663.003301\n",
      "51    15682.255867\n",
      "52    18256.269719\n",
      "53    16020.930755\n",
      "54    18758.546475\n",
      "55    16164.545488\n",
      "56    15025.515837\n",
      "57    16447.185250\n",
      "58    13878.928112\n",
      "59    18895.869532\n",
      "60    21979.418507\n",
      "61    22024.457609\n",
      "62    19163.856573\n",
      "63    19884.998461\n",
      "64    23275.530837\n",
      "Name: charges, dtype: float64\n"
     ]
    }
   ],
   "source": [
    "# Get the mean charges for each age\n",
    "print(insurance_df.groupby('age')['charges'].mean())"
   ]
  },
  {
   "cell_type": "markdown",
   "metadata": {
    "id": "3ohay2LsK9LC"
   },
   "source": [
    "### Balance dataset examples"
   ]
  },
  {
   "cell_type": "markdown",
   "metadata": {
    "id": "1UBiWgQiK9LI"
   },
   "source": [
    "Below we import data from a text file called 'balance.txt'. The text file is found in the task folder. Make sure it is in the same directory that the notebook is saved in."
   ]
  },
  {
   "cell_type": "raw",
   "metadata": {
    "id": "2sOfiEpEK9LJ"
   },
   "source": [
    "# Load data\n",
    "df = pd.read_csv('balance.txt',sep=' ')"
   ]
  },
  {
   "cell_type": "markdown",
   "metadata": {
    "id": "Rbm856BhK9LJ"
   },
   "source": [
    "Here is how to view the top rows of the frame. The `head()` function shows the first five observations. Use this to get a glimpse of the data such as the column names and the type of data in the columns."
   ]
  },
  {
   "cell_type": "code",
   "execution_count": 10,
   "metadata": {
    "id": "CdB4bnsZK9LK",
    "outputId": "869f522e-ab1d-44aa-a59b-e1cf8f037029"
   },
   "outputs": [
    {
     "ename": "NameError",
     "evalue": "name 'df' is not defined",
     "output_type": "error",
     "traceback": [
      "\u001b[1;31m---------------------------------------------------------------------------\u001b[0m",
      "\u001b[1;31mNameError\u001b[0m                                 Traceback (most recent call last)",
      "Cell \u001b[1;32mIn[10], line 1\u001b[0m\n\u001b[1;32m----> 1\u001b[0m \u001b[43mdf\u001b[49m\u001b[38;5;241m.\u001b[39mhead()\n",
      "\u001b[1;31mNameError\u001b[0m: name 'df' is not defined"
     ]
    }
   ],
   "source": [
    "df.head()"
   ]
  },
  {
   "cell_type": "markdown",
   "metadata": {
    "id": "7KJvPxufK9LL"
   },
   "source": [
    "This shows the last observations of the dataset"
   ]
  },
  {
   "cell_type": "code",
   "execution_count": null,
   "metadata": {
    "id": "AAzHv1ymK9LL",
    "outputId": "8594bd59-ed4d-4beb-c13d-2fd77cb81473",
    "scrolled": true
   },
   "outputs": [],
   "source": [
    "df.tail(7)"
   ]
  },
  {
   "cell_type": "markdown",
   "metadata": {
    "id": "1hVl8r7WK9LM"
   },
   "source": [
    "To get the range of indexes of your dataset use the syntax `dataset_name.index`. This helps you to know how to refer to your observations. By using the index function below, we know the range of the dataset is from 0-400 and therefore you cannot index an observation that is not within that range. For example, index 450 would not be a valid index for this dataset."
   ]
  },
  {
   "cell_type": "code",
   "execution_count": 11,
   "metadata": {
    "id": "4fcvHpXRK9LM",
    "outputId": "361a06ea-3af7-40c0-8960-fc52f0828e92"
   },
   "outputs": [
    {
     "ename": "NameError",
     "evalue": "name 'df' is not defined",
     "output_type": "error",
     "traceback": [
      "\u001b[1;31m---------------------------------------------------------------------------\u001b[0m",
      "\u001b[1;31mNameError\u001b[0m                                 Traceback (most recent call last)",
      "Cell \u001b[1;32mIn[11], line 1\u001b[0m\n\u001b[1;32m----> 1\u001b[0m \u001b[43mdf\u001b[49m\u001b[38;5;241m.\u001b[39mindex\n",
      "\u001b[1;31mNameError\u001b[0m: name 'df' is not defined"
     ]
    }
   ],
   "source": [
    "df.index"
   ]
  },
  {
   "cell_type": "markdown",
   "metadata": {
    "id": "SeQfS_gcK9LN"
   },
   "source": [
    "This allows you to see the columns in the data frame. You will need this when you are doing an analysis and are writing reports based on the dataset."
   ]
  },
  {
   "cell_type": "code",
   "execution_count": 12,
   "metadata": {
    "id": "ukBxkbdkK9LN",
    "outputId": "01e90e7b-05c0-4637-f49e-d866fabbbd86"
   },
   "outputs": [
    {
     "ename": "NameError",
     "evalue": "name 'df' is not defined",
     "output_type": "error",
     "traceback": [
      "\u001b[1;31m---------------------------------------------------------------------------\u001b[0m",
      "\u001b[1;31mNameError\u001b[0m                                 Traceback (most recent call last)",
      "Cell \u001b[1;32mIn[12], line 1\u001b[0m\n\u001b[1;32m----> 1\u001b[0m \u001b[43mdf\u001b[49m\u001b[38;5;241m.\u001b[39mcolumns\n",
      "\u001b[1;31mNameError\u001b[0m: name 'df' is not defined"
     ]
    }
   ],
   "source": [
    "df.columns"
   ]
  },
  {
   "cell_type": "markdown",
   "metadata": {
    "id": "GxpfKgVkK9LN"
   },
   "source": [
    "`describe()` shows a quick statistic summary of your data. As you can see, statistics are only calculated for columns with numerical values."
   ]
  },
  {
   "cell_type": "code",
   "execution_count": 13,
   "metadata": {
    "id": "U0IuMXWdK9LO",
    "outputId": "4e664a88-5fa7-443a-e60d-b3f98c2d9a7e"
   },
   "outputs": [
    {
     "ename": "NameError",
     "evalue": "name 'df' is not defined",
     "output_type": "error",
     "traceback": [
      "\u001b[1;31m---------------------------------------------------------------------------\u001b[0m",
      "\u001b[1;31mNameError\u001b[0m                                 Traceback (most recent call last)",
      "Cell \u001b[1;32mIn[13], line 1\u001b[0m\n\u001b[1;32m----> 1\u001b[0m \u001b[43mdf\u001b[49m\u001b[38;5;241m.\u001b[39mdescribe()\n",
      "\u001b[1;31mNameError\u001b[0m: name 'df' is not defined"
     ]
    }
   ],
   "source": [
    "df.describe()"
   ]
  },
  {
   "cell_type": "markdown",
   "metadata": {
    "id": "doGPFdjKK9LO"
   },
   "source": [
    "`sort_values()` helps to arrange observations in a well ordered manner. The function will take in parameters such as column name. By default the observations will be sorted in ascending order. If you want to display data in descending order, you will have to set ascending to false."
   ]
  },
  {
   "cell_type": "code",
   "execution_count": 14,
   "metadata": {
    "id": "SeeoHUZEK9LO",
    "outputId": "4d93e623-32e8-41db-e5cc-71f1585cd39c"
   },
   "outputs": [
    {
     "ename": "NameError",
     "evalue": "name 'df' is not defined",
     "output_type": "error",
     "traceback": [
      "\u001b[1;31m---------------------------------------------------------------------------\u001b[0m",
      "\u001b[1;31mNameError\u001b[0m                                 Traceback (most recent call last)",
      "Cell \u001b[1;32mIn[14], line 1\u001b[0m\n\u001b[1;32m----> 1\u001b[0m \u001b[43mdf\u001b[49m\u001b[38;5;241m.\u001b[39msort_values(by\u001b[38;5;241m=\u001b[39m\u001b[38;5;124m'\u001b[39m\u001b[38;5;124mIncome\u001b[39m\u001b[38;5;124m'\u001b[39m,ascending\u001b[38;5;241m=\u001b[39m\u001b[38;5;28;01mFalse\u001b[39;00m)\u001b[38;5;241m.\u001b[39mhead()\n",
      "\u001b[1;31mNameError\u001b[0m: name 'df' is not defined"
     ]
    }
   ],
   "source": [
    "df.sort_values(by='Income',ascending=False).head()"
   ]
  },
  {
   "cell_type": "markdown",
   "metadata": {
    "id": "fS4LQaFQK9LO"
   },
   "source": [
    "Selecting a single column, which yields a Series.\n",
    "\n"
   ]
  },
  {
   "cell_type": "code",
   "execution_count": 15,
   "metadata": {
    "id": "T3gOdqCaK9LP",
    "outputId": "bc44cdc6-4f54-46cb-961d-76ed0251aa8f"
   },
   "outputs": [
    {
     "ename": "NameError",
     "evalue": "name 'df' is not defined",
     "output_type": "error",
     "traceback": [
      "\u001b[1;31m---------------------------------------------------------------------------\u001b[0m",
      "\u001b[1;31mNameError\u001b[0m                                 Traceback (most recent call last)",
      "Cell \u001b[1;32mIn[15], line 1\u001b[0m\n\u001b[1;32m----> 1\u001b[0m \u001b[43mdf\u001b[49m\u001b[38;5;241m.\u001b[39mRating\u001b[38;5;241m.\u001b[39mhead(\u001b[38;5;241m5\u001b[39m)\n",
      "\u001b[1;31mNameError\u001b[0m: name 'df' is not defined"
     ]
    }
   ],
   "source": [
    "df.Rating.head(5)"
   ]
  },
  {
   "cell_type": "markdown",
   "metadata": {
    "id": "yW9R4sTrK9LP"
   },
   "source": [
    "Selecting via [ ], which slices the rows.\n",
    "\n"
   ]
  },
  {
   "cell_type": "code",
   "execution_count": 16,
   "metadata": {
    "id": "dELyUkAKK9LP",
    "outputId": "5ed57e4c-7426-482f-c735-7e85cfeb7607"
   },
   "outputs": [
    {
     "ename": "NameError",
     "evalue": "name 'df' is not defined",
     "output_type": "error",
     "traceback": [
      "\u001b[1;31m---------------------------------------------------------------------------\u001b[0m",
      "\u001b[1;31mNameError\u001b[0m                                 Traceback (most recent call last)",
      "Cell \u001b[1;32mIn[16], line 1\u001b[0m\n\u001b[1;32m----> 1\u001b[0m \u001b[43mdf\u001b[49m[\u001b[38;5;241m50\u001b[39m:\u001b[38;5;241m60\u001b[39m]\n",
      "\u001b[1;31mNameError\u001b[0m: name 'df' is not defined"
     ]
    }
   ],
   "source": [
    "df[50:60]"
   ]
  },
  {
   "cell_type": "code",
   "execution_count": 17,
   "metadata": {
    "id": "4auo5TSwK9LQ",
    "outputId": "844c3af3-a1d5-4982-8bd6-6bee837d2a3c"
   },
   "outputs": [
    {
     "ename": "NameError",
     "evalue": "name 'df' is not defined",
     "output_type": "error",
     "traceback": [
      "\u001b[1;31m---------------------------------------------------------------------------\u001b[0m",
      "\u001b[1;31mNameError\u001b[0m                                 Traceback (most recent call last)",
      "Cell \u001b[1;32mIn[17], line 1\u001b[0m\n\u001b[1;32m----> 1\u001b[0m \u001b[43mdf\u001b[49m\u001b[38;5;241m.\u001b[39mloc[\u001b[38;5;241m40\u001b[39m:\u001b[38;5;241m50\u001b[39m]\n",
      "\u001b[1;31mNameError\u001b[0m: name 'df' is not defined"
     ]
    }
   ],
   "source": [
    "df.loc[40:50]"
   ]
  },
  {
   "cell_type": "markdown",
   "metadata": {
    "id": "LEw6ZuUHK9LQ"
   },
   "source": [
    "#### Selection by Label\n",
    "\n",
    "You can select a range of columns and rows for viewing. Like in the syntax below. `5:8` means 5 to 8 and `1,7` means 1 and 7. To give a range of observations, use a semicolon. To select a column use a comma. For example below we have selected column 1 and 7."
   ]
  },
  {
   "cell_type": "code",
   "execution_count": 18,
   "metadata": {
    "id": "1_RR6wVzK9LQ",
    "outputId": "f0858ce6-f3ff-4eba-cb51-7d7ddbdfdb43"
   },
   "outputs": [
    {
     "ename": "NameError",
     "evalue": "name 'df' is not defined",
     "output_type": "error",
     "traceback": [
      "\u001b[1;31m---------------------------------------------------------------------------\u001b[0m",
      "\u001b[1;31mNameError\u001b[0m                                 Traceback (most recent call last)",
      "Cell \u001b[1;32mIn[18], line 1\u001b[0m\n\u001b[1;32m----> 1\u001b[0m \u001b[43mdf\u001b[49m\u001b[38;5;241m.\u001b[39miloc[\u001b[38;5;241m5\u001b[39m:\u001b[38;5;241m8\u001b[39m,[\u001b[38;5;241m1\u001b[39m,\u001b[38;5;241m7\u001b[39m]]\n",
      "\u001b[1;31mNameError\u001b[0m: name 'df' is not defined"
     ]
    }
   ],
   "source": [
    "df.iloc[5:8,[1,7]]\n"
   ]
  },
  {
   "cell_type": "markdown",
   "metadata": {
    "id": "wpcnzIN3K9LR"
   },
   "source": [
    "Using a single column’s values to select data. Using the example below, we want to find if there are any users who are above the age of 90.\n",
    "\n"
   ]
  },
  {
   "cell_type": "code",
   "execution_count": 19,
   "metadata": {
    "id": "8SCw-mhEK9LS",
    "outputId": "ad6c6012-9490-4e63-8bac-053965da2ad5"
   },
   "outputs": [
    {
     "ename": "NameError",
     "evalue": "name 'df' is not defined",
     "output_type": "error",
     "traceback": [
      "\u001b[1;31m---------------------------------------------------------------------------\u001b[0m",
      "\u001b[1;31mNameError\u001b[0m                                 Traceback (most recent call last)",
      "Cell \u001b[1;32mIn[19], line 1\u001b[0m\n\u001b[1;32m----> 1\u001b[0m \u001b[43mdf\u001b[49m[df\u001b[38;5;241m.\u001b[39mAge \u001b[38;5;241m>\u001b[39m \u001b[38;5;241m90\u001b[39m]\n",
      "\u001b[1;31mNameError\u001b[0m: name 'df' is not defined"
     ]
    }
   ],
   "source": [
    "df[df.Age > 90]"
   ]
  },
  {
   "cell_type": "code",
   "execution_count": null,
   "metadata": {},
   "outputs": [],
   "source": []
  },
  {
   "cell_type": "code",
   "execution_count": null,
   "metadata": {},
   "outputs": [],
   "source": []
  },
  {
   "cell_type": "code",
   "execution_count": null,
   "metadata": {},
   "outputs": [],
   "source": []
  },
  {
   "cell_type": "code",
   "execution_count": null,
   "metadata": {},
   "outputs": [],
   "source": []
  },
  {
   "cell_type": "code",
   "execution_count": null,
   "metadata": {},
   "outputs": [],
   "source": []
  },
  {
   "cell_type": "code",
   "execution_count": null,
   "metadata": {},
   "outputs": [],
   "source": []
  },
  {
   "cell_type": "code",
   "execution_count": null,
   "metadata": {},
   "outputs": [],
   "source": []
  },
  {
   "cell_type": "code",
   "execution_count": null,
   "metadata": {},
   "outputs": [],
   "source": []
  },
  {
   "cell_type": "code",
   "execution_count": null,
   "metadata": {},
   "outputs": [],
   "source": []
  },
  {
   "cell_type": "code",
   "execution_count": null,
   "metadata": {},
   "outputs": [],
   "source": []
  },
  {
   "cell_type": "code",
   "execution_count": null,
   "metadata": {},
   "outputs": [],
   "source": []
  }
 ],
 "metadata": {
  "colab": {
   "provenance": []
  },
  "kernelspec": {
   "display_name": "Python 3 (ipykernel)",
   "language": "python",
   "name": "python3"
  },
  "language_info": {
   "codemirror_mode": {
    "name": "ipython",
    "version": 3
   },
   "file_extension": ".py",
   "mimetype": "text/x-python",
   "name": "python",
   "nbconvert_exporter": "python",
   "pygments_lexer": "ipython3",
   "version": "3.10.6"
  },
  "vscode": {
   "interpreter": {
    "hash": "909775f4c1c1337c10dd26386ad7fdd8e68c24cfe611dcacc1a198b9e09c3e1f"
   }
  }
 },
 "nbformat": 4,
 "nbformat_minor": 4
}
