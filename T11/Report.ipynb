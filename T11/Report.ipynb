{
 "cells": [
  {
   "cell_type": "code",
   "execution_count": 1,
   "metadata": {
    "id": "h0LVvvnfJsg5"
   },
   "outputs": [],
   "source": [
    "# Import pandas\n",
    "import pandas as pd"
   ]
  },
  {
   "cell_type": "code",
   "execution_count": 2,
   "metadata": {
    "id": "rv2oLRnPK36J"
   },
   "outputs": [],
   "source": [
    "# Create a DataFrame with balance.txt\n",
    "df = pd.read_csv('balance.txt',sep=' ')"
   ]
  },
  {
   "cell_type": "markdown",
   "metadata": {
    "id": "_LXpBJXZLYoh"
   },
   "source": [
    "Write the code needed to produce a report that provides the following information:\n",
    "* Compare the average income based on ethnicity.\n",
    "* On average, do married or single people have a higher balance?\n",
    "* What is the highest income in our dataset?\n",
    "* What is the lowest income in our dataset?\n",
    "* How many cards do we have recorded in our dataset? (Hint: use `sum()`)\n",
    "* How many females do we have information for vs how many males? (Hint: use `count()` for a list of all methods for computation of descriptive stats, explore the [pandas documentation](https://pandas.pydata.org/pandas-docs/stable/reference/frame.html#computations-descriptive-stats))."
   ]
  },
  {
   "cell_type": "code",
   "execution_count": 3,
   "metadata": {},
   "outputs": [
    {
     "name": "stdout",
     "output_type": "stream",
     "text": [
      "                     Income\n",
      "Ethnicity                  \n",
      "African American  47.682101\n",
      "Asian             44.187833\n",
      "Caucasian         44.521945\n"
     ]
    }
   ],
   "source": [
    "# Coding\n",
    "# Compare the average income based on ethnicity\n",
    "ethnicity_df = df[['Ethnicity','Income']]\n",
    "print(ethnicity_df.groupby(['Ethnicity']).mean(numeric_only=True))"
   ]
  },
  {
   "cell_type": "code",
   "execution_count": 12,
   "metadata": {},
   "outputs": [
    {
     "name": "stdout",
     "output_type": "stream",
     "text": [
      "Married people have a higher balance! \n"
     ]
    }
   ],
   "source": [
    "# Coding \n",
    "#　On average, do married or single people have a higher balance?\n",
    "marriage_df = df[['Married','Income']]\n",
    "# print(marriage_df.groupby(['Married']).mean(numeric_only=True))\n",
    "avg_married = marriage_df[marriage_df.Married == 'Yes'].loc[:,\"Income\"].mean()\n",
    "avg_non_married = marriage_df[marriage_df.Married == 'No'].loc[:,\"Income\"].mean()\n",
    "#print(f\"Marrige Avg:{avg_married}\")\n",
    "#print(f\"Non Marrige Avg:{avg_non_married}\")\n",
    "if avg_married > avg_non_married:\n",
    "    print(\"Married people have a higher balance! \")\n",
    "else:\n",
    "    print(\"Single people have a higher balance! \")\n",
    "\n"
   ]
  },
  {
   "cell_type": "code",
   "execution_count": 14,
   "metadata": {},
   "outputs": [
    {
     "name": "stdout",
     "output_type": "stream",
     "text": [
      "Highest Income is :186.634\n"
     ]
    }
   ],
   "source": [
    "# Coding \n",
    "# What is the highest income in our dataset?\n",
    "highest_income =  df.Income.max()\n",
    "print(f\"Highest Income is :{highest_income}\")"
   ]
  },
  {
   "cell_type": "code",
   "execution_count": 13,
   "metadata": {},
   "outputs": [
    {
     "name": "stdout",
     "output_type": "stream",
     "text": [
      "Loweset Income is :10.354\n"
     ]
    }
   ],
   "source": [
    "# Coding \n",
    "# What is the lowest income in our dataset?\n",
    "lowest_income =  df.Income.min()\n",
    "print(f\"Loweset Income is :{lowest_income}\")"
   ]
  },
  {
   "cell_type": "code",
   "execution_count": 15,
   "metadata": {},
   "outputs": [
    {
     "name": "stdout",
     "output_type": "stream",
     "text": [
      "Total Cards in the dataset:1183\n"
     ]
    }
   ],
   "source": [
    "# Coding\n",
    "# How many cards do we have recorded in our dataset?\n",
    "print(f\"Total Cards in the dataset:{df.Cards.sum()}\")"
   ]
  },
  {
   "cell_type": "code",
   "execution_count": 24,
   "metadata": {},
   "outputs": [
    {
     "name": "stdout",
     "output_type": "stream",
     "text": [
      "Total Male amount:193\n",
      "Total Female amount:207\n"
     ]
    }
   ],
   "source": [
    "# Coding\n",
    "# How many females do we have information for vs how many males? \n",
    "total_male = df[df.Gender == \"Male\"].loc[:,\"Income\"].count()\n",
    "total_female = df[df.Gender == \"Female\"].loc[:,\"Income\"].count()\n",
    "print(f\"Total Male amount:{total_male}\")\n",
    "print(f\"Total Female amount:{total_female}\")\n",
    "\n"
   ]
  },
  {
   "cell_type": "code",
   "execution_count": null,
   "metadata": {},
   "outputs": [],
   "source": []
  },
  {
   "cell_type": "code",
   "execution_count": null,
   "metadata": {},
   "outputs": [],
   "source": []
  },
  {
   "cell_type": "code",
   "execution_count": null,
   "metadata": {},
   "outputs": [],
   "source": []
  }
 ],
 "metadata": {
  "colab": {
   "provenance": []
  },
  "kernelspec": {
   "display_name": "Python 3 (ipykernel)",
   "language": "python",
   "name": "python3"
  },
  "language_info": {
   "codemirror_mode": {
    "name": "ipython",
    "version": 3
   },
   "file_extension": ".py",
   "mimetype": "text/x-python",
   "name": "python",
   "nbconvert_exporter": "python",
   "pygments_lexer": "ipython3",
   "version": "3.10.6"
  }
 },
 "nbformat": 4,
 "nbformat_minor": 4
}
