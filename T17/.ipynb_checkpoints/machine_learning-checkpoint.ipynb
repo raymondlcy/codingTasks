{
 "cells": [
  {
   "cell_type": "markdown",
   "metadata": {
    "id": "IBb6nSAY5T4I"
   },
   "source": [
    "# Machine Learning"
   ]
  },
  {
   "cell_type": "markdown",
   "metadata": {
    "id": "N02Qu9_f1N45"
   },
   "source": [
    "1. For each of the following examples describe at least one possible input and\n",
    "output. Justify your answers:  \n",
    "* 1.1 A self-driving car\n",
    "* 1.2 Netflix recommendation system\n",
    "* 1.3 Signature recognition\n",
    "* 1.4 Medical diagnosis\n"
   ]
  },
  {
   "cell_type": "markdown",
   "metadata": {
    "id": "-8aBqprP3ypo"
   },
   "source": [
    "1. Answer here\n",
    "\n",
    "|      | Input(s)                                                                  | Output                                                         |\n",
    "| ---- | ----------- | ---------  |\n",
    "| 1.1  |    Sensor readings for the surrounding objects                            | Prediction of the driving route and adjustment on the drive\n",
    "            Driving speed and direction                                            |                                                                |\n",
    "| 1.2  |    User's history on programme playing and the programme genre feature    | Recommended programme list for the user                        |\n",
    "| 1.3  |    Different Signatures of particular person                              | Identifaction for real of fake signature                       \n",
    "| 1.4  |    Age, BMI, Food injection for the client                                | Possible health issue and recommended habit / diet             |"
   ]
  },
  {
   "cell_type": "markdown",
   "metadata": {
    "id": "l_I2f4C85yNF"
   },
   "source": [
    "\n",
    "2. For each of the following case studies, determine whether it is appropriate to utilise regression or classification machine learning algorithms. Justify your answers:\n",
    "* 2.1 Classifying emails as promotion or social based on their content and metadata.\n",
    "* 2.2 Forecasting the stock price of a company based on historical data and market trends.\n",
    "* 2.3 Sorting images of animals into different species based on their visual features.\n",
    "* 2.4 Predicting the likelihood of a patient having a particular disease based on medical history and diagnostic test results."
   ]
  },
  {
   "cell_type": "markdown",
   "metadata": {
    "id": "WgMUsqQr6qFU"
   },
   "source": [
    "2. Answer here\n",
    "* 2.1\n",
    "  Classification: Identifying promotion or social based is category and non-continious.\n",
    "* 2.2\n",
    "  Regression: Stock price is a continious output, which is suitable for regression\n",
    "* 2.3\n",
    "  Classification: Identifying animals species is category and non-continious \n",
    "* 2.4\n",
    "  Regression: Calculating and diagonstic of a particular disease can be predicted by several continous data"
   ]
  },
  {
   "cell_type": "markdown",
   "metadata": {
    "id": "b6f8UETG64hH"
   },
   "source": [
    "3. For each of the following real-world problems, determine whether it is appropriate to utilise a supervised or unsupervised machine learning algorithm. Justify your answers:\n",
    "* 3.1 Detecting anomalies in a manufacturing process using sensor data without prior knowledge of specific anomaly patterns.\n",
    "* 3.2 Predicting customer lifetime value based on historical transaction data and customer demographics.\n",
    "* 3.3 Segmenting customer demographics based on their purchase history, browsing behaviour, and preferences.\n",
    "* 3.4 Analysing social media posts to categorise them into different themes.\n"
   ]
  },
  {
   "cell_type": "markdown",
   "metadata": {
    "id": "W6dTYBvd675O"
   },
   "source": [
    "3. Answer here\n",
    "* 3.1\n",
    "  Unsupervised: As there is no prior knowledge of specfic anomaly patterns, so the pattern need to be discovered.\n",
    "* 3.2\n",
    "  Supervised: the historical transaction data and customer demongraphes can predict the customer lifetime value by the model and pattern.\n",
    "* 3.3\n",
    "  Supervised: purchase history, browsing behaviour, and preferences can be labeled data, and build up model to segmenting the customer demographics\n",
    "* 3.4\n",
    "  Supervised: the social media posts can be categorised by keywords."
   ]
  },
  {
   "cell_type": "markdown",
   "metadata": {
    "id": "bqsun96o64xe"
   },
   "source": [
    "4.\n",
    "For each of the following real-world problems, determine whether it is appropriate to utilise semi-supervised machine learning algorithms. Justify your answers:\n",
    "* 4.1 Predicting fraudulent financial transactions using a dataset where most transactions are labelled as fraudulent or legitimate.\n",
    "* 4.2 Analysing customer satisfaction surveys where only a small portion of the data is labelled with satisfaction ratings.\n",
    "* 4.3 Identifying spam emails in a dataset where the majority of emails are labelled.\n",
    "* 4.4 Predicting the probability of default for credit card applicants based on their complete financial and credit-related information.\n"
   ]
  },
  {
   "cell_type": "markdown",
   "metadata": {
    "id": "aTWugZ6q68GF"
   },
   "source": [
    "4. Answer here\n",
    "* 4.1\n",
    "  Appropriate: as most transcations are labeled, so it can used for discovering unlabeled data and unknown pattern\n",
    "* 4.2\n",
    "  Appropriate: as most transcations are labeled, so it can used for discovering unlabeled data and unknown pattern\n",
    "* 4.3\n",
    "  Inappropriate: most of the spam emails are labelled, so there is less need to find unknown pattern\n",
    "* 4.4\n",
    "  Inappropriate: the financial and credit-related information of the credit card applicants are complete, there is less needs to find unknown pattern for predicting the probability."
   ]
  }
 ],
 "metadata": {
  "colab": {
   "provenance": []
  },
  "kernelspec": {
   "display_name": "Python 3 (ipykernel)",
   "language": "python",
   "name": "python3"
  },
  "language_info": {
   "codemirror_mode": {
    "name": "ipython",
    "version": 3
   },
   "file_extension": ".py",
   "mimetype": "text/x-python",
   "name": "python",
   "nbconvert_exporter": "python",
   "pygments_lexer": "ipython3",
   "version": "3.10.6"
  }
 },
 "nbformat": 4,
 "nbformat_minor": 4
}
