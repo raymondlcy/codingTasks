{
 "cells": [
  {
   "cell_type": "markdown",
   "metadata": {
    "id": "lqt_yzRy16Wj"
   },
   "source": [
    "## Task\n",
    "\n",
    "In this compulsory task you will clean the country column and parse the date column in the **store_income_data_task.csv** file."
   ]
  },
  {
   "cell_type": "code",
   "execution_count": 28,
   "metadata": {
    "id": "vBP3WN2O16Wp"
   },
   "outputs": [],
   "source": [
    "# Load up store_income_data.csv\n",
    "\n",
    "import pandas as pd\n",
    "import numpy as np\n",
    "\n",
    "income_df = pd.read_csv(\"store_income_data_task.csv\")"
   ]
  },
  {
   "cell_type": "markdown",
   "metadata": {
    "id": "ItqLwumA16Wr"
   },
   "source": [
    "1. Take a look at all the unique values in the \"country\" column. Then, convert the column to lowercase and remove any trailing white spaces."
   ]
  },
  {
   "cell_type": "code",
   "execution_count": 29,
   "metadata": {
    "id": "sLkzt4Hr16Wr"
   },
   "outputs": [
    {
     "name": "stdout",
     "output_type": "stream",
     "text": [
      "There are 77 unique countries before basic cleaning\n",
      "There are 37 unique countries after basic cleaning\n"
     ]
    },
    {
     "name": "stderr",
     "output_type": "stream",
     "text": [
      "C:\\Users\\User\\AppData\\Local\\Temp\\ipykernel_52968\\2698605234.py:11: FutureWarning: A value is trying to be set on a copy of a DataFrame or Series through chained assignment using an inplace method.\n",
      "The behavior will change in pandas 3.0. This inplace method will never work because the intermediate object on which we are setting values always behaves as a copy.\n",
      "\n",
      "For example, when doing 'df[col].method(value, inplace=True)', try using 'df.method({col: value}, inplace=True)' or df[col] = df[col].method(value) instead, to perform the operation inplace on the original object.\n",
      "\n",
      "\n",
      "  income_df.country.fillna('others', inplace=True)\n"
     ]
    }
   ],
   "source": [
    "# Look all unique values, convert comumn to lowercase and remove any trailing white spaces\n",
    "\n",
    "countries = income_df['country'].unique()\n",
    "print(f\"There are {len(countries)} unique countries before basic cleaning\")\n",
    "#print(countries)\n",
    "# Convert to lower case\n",
    "income_df['country'] = income_df['country'].str.lower()\n",
    "# Remove trailing white spaces\n",
    "income_df['country'] = income_df['country'].str.strip()\n",
    "# Fill na too prevnet nan and null value\n",
    "income_df.country.fillna('others', inplace=True)\n",
    "\n",
    "countries = income_df['country'].unique()\n",
    "print(f\"There are {len(countries)} unique countries after basic cleaning\")\n",
    "#print(countries)"
   ]
  },
  {
   "cell_type": "markdown",
   "metadata": {
    "id": "P6dcDc4P16Ws"
   },
   "source": [
    "2. Note that there should only be three separate countries. Eliminate all variations, so that 'South Africa', 'United Kingdom' and 'United States' are the only three countries."
   ]
  },
  {
   "cell_type": "code",
   "execution_count": 31,
   "metadata": {
    "id": "qeV3CxMR16Ws",
    "scrolled": true
   },
   "outputs": [
    {
     "name": "stdout",
     "output_type": "stream",
     "text": [
      "------------------------------------------------------------------\n",
      "There are 4 unique countries before fuzzy checking\n",
      "Replacing[united kingdom] are done with ratio(90)!\n",
      "Replacing[britain] are done with ratio(90)!\n",
      "Replacing[england] are done with ratio(90)!\n",
      "Replacing[united states] are done with ratio(90)!\n",
      "Replacing[united states of america] are done with ratio(90)!\n",
      "Replacing[america] are done with ratio(90)!\n",
      "Replacing[south africa] are done with ratio(75)!\n",
      "Replacing[sa] are done with ratio(40)!\n",
      "Replacing[uk] are done with ratio(40)!\n",
      "There are 4 unique countries after fuzzy checking\n",
      "------------------------------------------------------------------\n",
      "['united states of america' 'united kingdom' 'south africa' 'Others']\n",
      "There are 4 unique countries after manual renaming\n",
      "['United States of America' 'United Kingdom' 'South Africa' 'Others']\n"
     ]
    }
   ],
   "source": [
    "# Try to eliminate all variations and remain only three countries: South Africa, United Kingdom and United States\n",
    "\n",
    "# Import Libraries for fuzzy word processing\n",
    "import fuzzywuzzy\n",
    "from fuzzywuzzy import process\n",
    "import chardet\n",
    "\n",
    "# Set seed for reproducibility\n",
    "np.random.seed(0)\n",
    "\n",
    "# Define function to use fuzzwuzzy to process the string with over 90% mark matching\n",
    "def replace_country_name(df, column, string_to_match, min_ratio = 90):\n",
    "    # get a list of unique strings\n",
    "    strings = df[column].unique()\n",
    "    \n",
    "    # Get the top 10 closest matches to our input string\n",
    "    matches = fuzzywuzzy.process.extract(string_to_match, strings, \n",
    "                                         limit=10, scorer=fuzzywuzzy.fuzz.token_sort_ratio)\n",
    "    \n",
    "    #print(f\"Checking:[{string_to_match}]\")\n",
    "    #print(matches)\n",
    "    # Only get matches with a ratio > 90\n",
    "    close_matches = [matches[0] for matches in matches if matches[1] >= min_ratio]\n",
    "    #print(f\"Replacing [{close_matches}]\")\n",
    "    # Get the rows of all the close matches in our dataframe\n",
    "    rows_with_matches = df[column].isin(close_matches)\n",
    "\n",
    "    # Replace all rows with close matches with the input matches \n",
    "    df.loc[rows_with_matches, column] = string_to_match\n",
    "    \n",
    "    # Let us know when the function is done\n",
    "    print(f\"Replacing[{string_to_match}] are done with ratio({min_ratio})!\")\n",
    "\n",
    "# List unique entry before replace\n",
    "countries = income_df['country'].unique()\n",
    "print(\"------------------------------------------------------------------\")\n",
    "print(f\"There are {len(countries)} unique countries before fuzzy checking\")\n",
    "\n",
    "# Replace united kingdom\n",
    "replace_country_name(df=income_df, column='country', string_to_match=\"united kingdom\", min_ratio=90)\n",
    "# Replace britian\n",
    "replace_country_name(df=income_df, column='country', string_to_match=\"britain\", min_ratio=90)\n",
    "# Replace england\n",
    "replace_country_name(df=income_df, column='country', string_to_match=\"england\", min_ratio=90)\n",
    "# Replace united states\n",
    "replace_country_name(df=income_df, column='country', string_to_match=\"united states\" ,min_ratio=90)\n",
    "# Replace united states of america\n",
    "replace_country_name(df=income_df, column='country', string_to_match=\"united states of america\" ,min_ratio=90)\n",
    "# Replace america\n",
    "replace_country_name(df=income_df, column='country', string_to_match=\"america\" ,min_ratio=90)\n",
    "# Replace south africa\n",
    "replace_country_name(df=income_df, column='country', string_to_match=\"south africa\", min_ratio=75)\n",
    "# Replace sa\n",
    "replace_country_name(df=income_df, column='country', string_to_match=\"sa\" ,min_ratio=40)\n",
    "# Replace uk\n",
    "replace_country_name(df=income_df, column='country', string_to_match=\"uk\", min_ratio=40)\n",
    "\n",
    "# List unique entry after replace\n",
    "countries = income_df['country'].unique()\n",
    "print(f\"There are {len(countries)} unique countries after fuzzy checking\")\n",
    "print(\"------------------------------------------------------------------\")\n",
    "print(countries)\n",
    "\n",
    "#Manual Replacing with same counntry with different naming\n",
    "income_df.replace('uk', 'United Kingdom', inplace=True)\n",
    "income_df.replace('britain', 'United Kingdom', inplace=True)\n",
    "income_df.replace('england', 'United Kingdom', inplace=True)\n",
    "income_df.replace('united kingdom', 'United Kingdom', inplace=True)\n",
    "income_df.replace('united states', 'United States of America', inplace=True)\n",
    "income_df.replace('united states of america', 'United States of America', inplace=True)\n",
    "income_df.replace('america', 'United States of America', inplace=True)\n",
    "income_df.replace('south africa', 'South Africa', inplace=True)\n",
    "income_df.replace('sa', 'South Africa', inplace=True)\n",
    "income_df.replace('/', 'Others', inplace=True)\n",
    "income_df.replace('others', 'Others', inplace=True)\n",
    "income_df.replace('.', 'Others', inplace=True)\n",
    "income_df.replace('', 'Others', inplace=True)\n",
    "\n",
    "countries = income_df['country'].unique()\n",
    "print(f\"There are {len(countries)} unique countries after manual renaming\")\n",
    "print(countries)\n",
    "\n"
   ]
  },
  {
   "cell_type": "markdown",
   "metadata": {
    "id": "UJZDMTwP16Ws"
   },
   "source": [
    "3. Create a new column called `days_ago` in the DataFrame that is a copy of the 'date_measured' column but instead it is a number that shows how many days ago it was measured from the current date. Note that the current date can be obtained using `datetime.date.today()`."
   ]
  },
  {
   "cell_type": "code",
   "execution_count": 32,
   "metadata": {
    "id": "gMJbN84P16Wt"
   },
   "outputs": [
    {
     "data": {
      "text/html": [
       "<div>\n",
       "<style scoped>\n",
       "    .dataframe tbody tr th:only-of-type {\n",
       "        vertical-align: middle;\n",
       "    }\n",
       "\n",
       "    .dataframe tbody tr th {\n",
       "        vertical-align: top;\n",
       "    }\n",
       "\n",
       "    .dataframe thead th {\n",
       "        text-align: right;\n",
       "    }\n",
       "</style>\n",
       "<table border=\"1\" class=\"dataframe\">\n",
       "  <thead>\n",
       "    <tr style=\"text-align: right;\">\n",
       "      <th></th>\n",
       "      <th>id</th>\n",
       "      <th>store_name</th>\n",
       "      <th>store_email</th>\n",
       "      <th>department</th>\n",
       "      <th>income</th>\n",
       "      <th>date_measured</th>\n",
       "      <th>country</th>\n",
       "      <th>days_ago</th>\n",
       "    </tr>\n",
       "  </thead>\n",
       "  <tbody>\n",
       "    <tr>\n",
       "      <th>0</th>\n",
       "      <td>1</td>\n",
       "      <td>Cullen/Frost Bankers, Inc.</td>\n",
       "      <td>NaN</td>\n",
       "      <td>Clothing</td>\n",
       "      <td>$54438554.24</td>\n",
       "      <td>2006-02-04</td>\n",
       "      <td>United States of America</td>\n",
       "      <td>6652 days</td>\n",
       "    </tr>\n",
       "    <tr>\n",
       "      <th>1</th>\n",
       "      <td>2</td>\n",
       "      <td>Nordson Corporation</td>\n",
       "      <td>NaN</td>\n",
       "      <td>Tools</td>\n",
       "      <td>$41744177.01</td>\n",
       "      <td>2006-01-04</td>\n",
       "      <td>United Kingdom</td>\n",
       "      <td>6683 days</td>\n",
       "    </tr>\n",
       "    <tr>\n",
       "      <th>2</th>\n",
       "      <td>3</td>\n",
       "      <td>Stag Industrial, Inc.</td>\n",
       "      <td>NaN</td>\n",
       "      <td>Beauty</td>\n",
       "      <td>$36152340.34</td>\n",
       "      <td>2003-09-12</td>\n",
       "      <td>United States of America</td>\n",
       "      <td>7528 days</td>\n",
       "    </tr>\n",
       "    <tr>\n",
       "      <th>3</th>\n",
       "      <td>4</td>\n",
       "      <td>FIRST REPUBLIC BANK</td>\n",
       "      <td>ecanadine3@fc2.com</td>\n",
       "      <td>Automotive</td>\n",
       "      <td>$8928350.04</td>\n",
       "      <td>2006-05-08</td>\n",
       "      <td>United Kingdom</td>\n",
       "      <td>6559 days</td>\n",
       "    </tr>\n",
       "    <tr>\n",
       "      <th>4</th>\n",
       "      <td>5</td>\n",
       "      <td>Mercantile Bank Corporation</td>\n",
       "      <td>NaN</td>\n",
       "      <td>Baby</td>\n",
       "      <td>$33552742.32</td>\n",
       "      <td>1973-01-21</td>\n",
       "      <td>United Kingdom</td>\n",
       "      <td>18719 days</td>\n",
       "    </tr>\n",
       "  </tbody>\n",
       "</table>\n",
       "</div>"
      ],
      "text/plain": [
       "   id                   store_name         store_email  department  \\\n",
       "0   1   Cullen/Frost Bankers, Inc.                 NaN    Clothing   \n",
       "1   2          Nordson Corporation                 NaN       Tools   \n",
       "2   3        Stag Industrial, Inc.                 NaN      Beauty   \n",
       "3   4          FIRST REPUBLIC BANK  ecanadine3@fc2.com  Automotive   \n",
       "4   5  Mercantile Bank Corporation                 NaN        Baby   \n",
       "\n",
       "         income date_measured                   country   days_ago  \n",
       "0  $54438554.24    2006-02-04  United States of America  6652 days  \n",
       "1  $41744177.01    2006-01-04            United Kingdom  6683 days  \n",
       "2  $36152340.34    2003-09-12  United States of America  7528 days  \n",
       "3   $8928350.04    2006-05-08            United Kingdom  6559 days  \n",
       "4  $33552742.32    1973-01-21            United Kingdom 18719 days  "
      ]
     },
     "execution_count": 32,
     "metadata": {},
     "output_type": "execute_result"
    }
   ],
   "source": [
    "# Import modules\n",
    "import datetime\n",
    "\n",
    "#Convert date_measured into data value\n",
    "income_df['date_measured'] = pd.to_datetime(income_df['date_measured'], format='%d-%m-%Y')\n",
    "# Set today temporary into days ago for calculating next\n",
    "income_df['days_ago'] = pd.to_datetime(datetime.date.today(), format='%d-%m-%Y')\n",
    "income_df['days_ago'] = income_df['days_ago'] - income_df['date_measured']\n",
    "\n",
    "# Show sample result\n",
    "income_df.head()\n"
   ]
  }
 ],
 "metadata": {
  "colab": {
   "provenance": []
  },
  "kernelspec": {
   "display_name": "Python 3 (ipykernel)",
   "language": "python",
   "name": "python3"
  },
  "language_info": {
   "codemirror_mode": {
    "name": "ipython",
    "version": 3
   },
   "file_extension": ".py",
   "mimetype": "text/x-python",
   "name": "python",
   "nbconvert_exporter": "python",
   "pygments_lexer": "ipython3",
   "version": "3.10.6"
  },
  "vscode": {
   "interpreter": {
    "hash": "63d17dc58a06b6a6d4136fb13c245dafcf53668da37b1c3052c24d689135f5bb"
   }
  }
 },
 "nbformat": 4,
 "nbformat_minor": 4
}
